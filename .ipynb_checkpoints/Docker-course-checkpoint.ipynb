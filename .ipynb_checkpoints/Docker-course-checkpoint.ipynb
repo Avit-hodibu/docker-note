{
 "cells": [
  {
   "cell_type": "markdown",
   "id": "dd44601f",
   "metadata": {},
   "source": [
    "Docker is a containerization platform for deeveloping, packaging, shipping and running applications. It encapsulate apps instead of whole machine.\n",
    "\n",
    "Why need docker?\n",
    "-> run on same version system\n",
    "\n",
    "Container = a way to package an application with all the necessary dependencies and configuration."
   ]
  },
  {
   "cell_type": "markdown",
   "id": "3f9cb338",
   "metadata": {},
   "source": [
    "Components of Docker\n",
    "1. DockerFile = DockerFile (a simple text file with instructions to build an image)  --> Image(single file with all the dep and lib to run the program)  ---> Container (instance of an image)\n",
    "We share image to other \n",
    "\n",
    "2. Docker Registry = central repository for storing and distributing Docker images. For eg: make dockerfile from that we create image name \"MyAPP v1.0\". Then it place or upload to cloud based repo Docker Hub or Private Registry. Another user can pull or download and use that image\n",
    "\n",
    "\n"
   ]
  },
  {
   "cell_type": "markdown",
   "id": "cd67d792",
   "metadata": {},
   "source": [
    "docker build . => build image\n",
    "\n",
    "docker image ls => list the image\n",
    "\n",
    "we can run image multiple times at a time\n",
    "\n",
    "docker run IMAGE ID ==> to run container\n",
    "\n",
    "docker stop CONTAINER ID => to stop the container\n",
    "\n",
    "docker rm CONTAINER ID => remove the container\n",
    "\n",
    "docker rmi IMAGE ID => to delete image\n",
    "\n",
    "docker build -t <your-image-name> => rebuild image\n",
    "\n",
    "docker run -d -p 8000:80 IMAGE ID => run in bg\n",
    "    \n",
    "docker run -d --rm -p 8000:80 IMAGE ID => when we stop the container it will automatically remove the container\n",
    "\n",
    "docker run -d --rm --name \"name_of_con\" -p 8000:80 IMAGE ID => we can assign name\n",
    "    \n",
    "docker ps => show running container\n",
    "\n",
    "docker ps -a => all container"
   ]
  },
  {
   "cell_type": "markdown",
   "id": "8c1f45c1",
   "metadata": {},
   "source": [
    "Mutiple container from single image\n",
    "docker run -d -p 8001:80 IMAGE ID => just change the port "
   ]
  },
  {
   "cell_type": "code",
   "execution_count": null,
   "id": "be855832",
   "metadata": {},
   "outputs": [],
   "source": []
  }
 ],
 "metadata": {
  "kernelspec": {
   "display_name": "Python 3 (ipykernel)",
   "language": "python",
   "name": "python3"
  },
  "language_info": {
   "codemirror_mode": {
    "name": "ipython",
    "version": 3
   },
   "file_extension": ".py",
   "mimetype": "text/x-python",
   "name": "python",
   "nbconvert_exporter": "python",
   "pygments_lexer": "ipython3",
   "version": "3.9.13"
  }
 },
 "nbformat": 4,
 "nbformat_minor": 5
}
