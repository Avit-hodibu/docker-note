{
 "cells": [
  {
   "cell_type": "markdown",
   "id": "dd44601f",
   "metadata": {},
   "source": [
    "Docker is a containerization platform for deeveloping, packaging, shipping and running applications. It encapsulate apps instead of whole machine.\n",
    "\n",
    "Why need docker?\n",
    "-> run on same version system\n",
    "\n",
    "Container = a way to package an application with all the necessary dependencies and configuration."
   ]
  },
  {
   "cell_type": "markdown",
   "id": "3f9cb338",
   "metadata": {},
   "source": [
    "Components of Docker\n",
    "1. DockerFile = DockerFile (a simple text file with instructions to build an image)  --> Image(single file with all the dep and lib to run the program)  ---> Container (instance of an image)\n",
    "We share image to other \n",
    "\n",
    "2. Docker Registry = central repository for storing and distributing Docker images. For eg: make dockerfile from that we create image name \"MyAPP v1.0\". Then it place or upload to cloud based repo Docker Hub or Private Registry. Another user can pull or download and use that image\n",
    "\n",
    "\n"
   ]
  },
  {
   "cell_type": "markdown",
   "id": "cd67d792",
   "metadata": {},
   "source": [
    "docker build . => build image\n",
    "\n",
    "docker image ls => list the image\n",
    "\n",
    "we can run image multiple times at a time\n",
    "\n",
    "docker run IMAGE ID ==> to run container\n",
    "\n",
    "docker stop CONTAINER ID => to stop the container\n",
    "\n",
    "docker start ContainernameORid => to re-run\n",
    "\n",
    "docker rm CONTAINER ID => remove the container\n",
    "\n",
    "docker rmi IMAGE ID => to delete image\n",
    "\n",
    "docker build -t <your-image-name>:<version> => bulit image name and tag \n",
    "\n",
    "docker run -d -p 8000:80 IMAGE ID => run in bg\n",
    "    \n",
    "docker run -d --rm -p 8000:80 IMAGE ID => when we stop the container it will automatically remove the container\n",
    "\n",
    "docker run -d --rm --name \"name_of_con\" -p 8000:80 IMAGE ID => we can assign name of container\n",
    "    \n",
    "docker run -it imageId ==> -it means interactive terminal\n",
    "\n",
    "docker ps => show running container\n",
    "\n",
    "docker ps -a => all "
   ]
  },
  {
   "cell_type": "markdown",
   "id": "8c1f45c1",
   "metadata": {},
   "source": [
    "Mutiple container from single image\n",
    "docker run -d -p 8001:80 IMAGE ID => just change the port \n",
    "\n",
    "\n",
    "Predefine images:\n",
    "docker pull python => to get the predefine image from dockerhub"
   ]
  },
  {
   "cell_type": "markdown",
   "id": "be855832",
   "metadata": {},
   "source": [
    "docker tag oldername newname => to change name\n",
    "\n",
    "docker run -it --rm -v myvolume:/<name of working dir WORKDIR> imageID => able to save the interaction enter even after container is remove because the volume is create and save outside the container \n",
    "\n",
    "docker volume ls => to list column\n",
    "\n",
    "docker volume inspect name_volume => to see volume\n",
    "\n",
    "docker run -v phy_path_file:container_path_file -rm imageID => to bind with new changes. update"
   ]
  },
  {
   "cell_type": "markdown",
   "id": "29fdefb8",
   "metadata": {},
   "source": [
    ".dockerignore => same as .gitignore"
   ]
  },
  {
   "cell_type": "markdown",
   "id": "dba80558",
   "metadata": {},
   "source": [
    "RUN pip install name => to install api in docker \n",
    "\n",
    "to connect with db we need to change in create_connection(host = \"host.docker.internal\") - we are saying jahapar local par host machine me docker install ha connect to that."
   ]
  },
  {
   "cell_type": "markdown",
   "id": "548b5fa3",
   "metadata": {},
   "source": [
    "# connect with multiple container(working together).\n",
    "\n",
    "docker inspect container_id\n",
    "\n",
    "go to IP Address can copy it \n",
    "\n",
    "place to host =\"that IP address\"\n",
    "\n",
    "and do docker build .\n",
    "\n",
    "it is now run => docker run with_image"
   ]
  },
  {
   "cell_type": "markdown",
   "id": "9f62ef47",
   "metadata": {},
   "source": [
    "docker network: two or more than 2 container run in same network so they can access each other.\n",
    "\n",
    "\n",
    "1. create network name my-net= docker network create my-net \n",
    "\n",
    "2. run container in my-net network =  docker run -d --network mynet imageID\n",
    "\n",
    "3. run another same = change the host = \"previous run container name\" and bulid the image\n",
    "\n",
    "= docker build .\n",
    "\n",
    "4. run that image= docker run -it --rm --network my-net imageID\n"
   ]
  },
  {
   "cell_type": "markdown",
   "id": "90e1b149",
   "metadata": {},
   "source": [
    "#Docker Compose: configuration file to manage multiple containers running on same machine\n",
    "\n",
    "docker-compose up => to run\n",
    "\n",
    "docker-compose down => to stop running and remove from container\n",
    "\n",
    "docker-compose up -d => run in detech mode\n",
    "\n",
    "docker-compose run service_name => to run one service\n",
    "\n",
    "\n",
    "##docker-compose with network : it make netwoek automatically to it's services\n",
    "\n",
    "we also also add in docker-compose.yml\n",
    "\n",
    "another\n",
    "\n",
    "network: name_of_network:\n",
    "\n",
    "docker-compose down -v => to remove network after stop\n",
    "\n",
    "##docker-compose with volume\n",
    "\n",
    "in sevices inside app add ==> volumes : - path\n",
    "\n",
    "\n"
   ]
  }
 ],
 "metadata": {
  "kernelspec": {
   "display_name": "Python 3 (ipykernel)",
   "language": "python",
   "name": "python3"
  },
  "language_info": {
   "codemirror_mode": {
    "name": "ipython",
    "version": 3
   },
   "file_extension": ".py",
   "mimetype": "text/x-python",
   "name": "python",
   "nbconvert_exporter": "python",
   "pygments_lexer": "ipython3",
   "version": "3.9.13"
  }
 },
 "nbformat": 4,
 "nbformat_minor": 5
}
